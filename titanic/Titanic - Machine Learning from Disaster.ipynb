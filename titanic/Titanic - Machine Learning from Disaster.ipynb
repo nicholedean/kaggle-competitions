{
 "cells": [
  {
   "cell_type": "code",
   "execution_count": 1,
   "metadata": {
    "collapsed": true
   },
   "outputs": [],
   "source": [
    "%matplotlib inline\n",
    "\n",
    "import numpy as np\n",
    "import pandas as pd\n",
    "import seaborn as sns"
   ]
  },
  {
   "cell_type": "code",
   "execution_count": 2,
   "metadata": {
    "collapsed": true
   },
   "outputs": [],
   "source": [
    "train_dataset = pd.read_csv('data/train.csv')"
   ]
  },
  {
   "cell_type": "markdown",
   "metadata": {},
   "source": [
    "### Data preprocessing & Feature Engineering\n",
    "Its always a good practice to go through the following checklists to preprocess our dataset\n",
    "- Split the dataset into X (attributes) and y (label)\n",
    "- Check if contains missing values\n",
    "- Check if continuous attribute(s) contain any outliers\n",
    "- Some misc properties of the dataset"
   ]
  },
  {
   "cell_type": "code",
   "execution_count": 3,
   "metadata": {},
   "outputs": [
    {
     "data": {
      "text/html": [
       "<div>\n",
       "<style scoped>\n",
       "    .dataframe tbody tr th:only-of-type {\n",
       "        vertical-align: middle;\n",
       "    }\n",
       "\n",
       "    .dataframe tbody tr th {\n",
       "        vertical-align: top;\n",
       "    }\n",
       "\n",
       "    .dataframe thead th {\n",
       "        text-align: right;\n",
       "    }\n",
       "</style>\n",
       "<table border=\"1\" class=\"dataframe\">\n",
       "  <thead>\n",
       "    <tr style=\"text-align: right;\">\n",
       "      <th></th>\n",
       "      <th>PassengerId</th>\n",
       "      <th>Survived</th>\n",
       "      <th>Pclass</th>\n",
       "      <th>Name</th>\n",
       "      <th>Sex</th>\n",
       "      <th>Age</th>\n",
       "      <th>SibSp</th>\n",
       "      <th>Parch</th>\n",
       "      <th>Ticket</th>\n",
       "      <th>Fare</th>\n",
       "      <th>Cabin</th>\n",
       "      <th>Embarked</th>\n",
       "    </tr>\n",
       "  </thead>\n",
       "  <tbody>\n",
       "    <tr>\n",
       "      <th>0</th>\n",
       "      <td>1</td>\n",
       "      <td>0</td>\n",
       "      <td>3</td>\n",
       "      <td>Braund, Mr. Owen Harris</td>\n",
       "      <td>male</td>\n",
       "      <td>22.0</td>\n",
       "      <td>1</td>\n",
       "      <td>0</td>\n",
       "      <td>A/5 21171</td>\n",
       "      <td>7.2500</td>\n",
       "      <td>NaN</td>\n",
       "      <td>S</td>\n",
       "    </tr>\n",
       "    <tr>\n",
       "      <th>1</th>\n",
       "      <td>2</td>\n",
       "      <td>1</td>\n",
       "      <td>1</td>\n",
       "      <td>Cumings, Mrs. John Bradley (Florence Briggs Th...</td>\n",
       "      <td>female</td>\n",
       "      <td>38.0</td>\n",
       "      <td>1</td>\n",
       "      <td>0</td>\n",
       "      <td>PC 17599</td>\n",
       "      <td>71.2833</td>\n",
       "      <td>C85</td>\n",
       "      <td>C</td>\n",
       "    </tr>\n",
       "    <tr>\n",
       "      <th>2</th>\n",
       "      <td>3</td>\n",
       "      <td>1</td>\n",
       "      <td>3</td>\n",
       "      <td>Heikkinen, Miss. Laina</td>\n",
       "      <td>female</td>\n",
       "      <td>26.0</td>\n",
       "      <td>0</td>\n",
       "      <td>0</td>\n",
       "      <td>STON/O2. 3101282</td>\n",
       "      <td>7.9250</td>\n",
       "      <td>NaN</td>\n",
       "      <td>S</td>\n",
       "    </tr>\n",
       "    <tr>\n",
       "      <th>3</th>\n",
       "      <td>4</td>\n",
       "      <td>1</td>\n",
       "      <td>1</td>\n",
       "      <td>Futrelle, Mrs. Jacques Heath (Lily May Peel)</td>\n",
       "      <td>female</td>\n",
       "      <td>35.0</td>\n",
       "      <td>1</td>\n",
       "      <td>0</td>\n",
       "      <td>113803</td>\n",
       "      <td>53.1000</td>\n",
       "      <td>C123</td>\n",
       "      <td>S</td>\n",
       "    </tr>\n",
       "    <tr>\n",
       "      <th>4</th>\n",
       "      <td>5</td>\n",
       "      <td>0</td>\n",
       "      <td>3</td>\n",
       "      <td>Allen, Mr. William Henry</td>\n",
       "      <td>male</td>\n",
       "      <td>35.0</td>\n",
       "      <td>0</td>\n",
       "      <td>0</td>\n",
       "      <td>373450</td>\n",
       "      <td>8.0500</td>\n",
       "      <td>NaN</td>\n",
       "      <td>S</td>\n",
       "    </tr>\n",
       "  </tbody>\n",
       "</table>\n",
       "</div>"
      ],
      "text/plain": [
       "   PassengerId  Survived  Pclass  \\\n",
       "0            1         0       3   \n",
       "1            2         1       1   \n",
       "2            3         1       3   \n",
       "3            4         1       1   \n",
       "4            5         0       3   \n",
       "\n",
       "                                                Name     Sex   Age  SibSp  \\\n",
       "0                            Braund, Mr. Owen Harris    male  22.0      1   \n",
       "1  Cumings, Mrs. John Bradley (Florence Briggs Th...  female  38.0      1   \n",
       "2                             Heikkinen, Miss. Laina  female  26.0      0   \n",
       "3       Futrelle, Mrs. Jacques Heath (Lily May Peel)  female  35.0      1   \n",
       "4                           Allen, Mr. William Henry    male  35.0      0   \n",
       "\n",
       "   Parch            Ticket     Fare Cabin Embarked  \n",
       "0      0         A/5 21171   7.2500   NaN        S  \n",
       "1      0          PC 17599  71.2833   C85        C  \n",
       "2      0  STON/O2. 3101282   7.9250   NaN        S  \n",
       "3      0            113803  53.1000  C123        S  \n",
       "4      0            373450   8.0500   NaN        S  "
      ]
     },
     "execution_count": 3,
     "metadata": {},
     "output_type": "execute_result"
    }
   ],
   "source": [
    "train_dataset.head()"
   ]
  },
  {
   "cell_type": "code",
   "execution_count": 4,
   "metadata": {},
   "outputs": [
    {
     "name": "stdout",
     "output_type": "stream",
     "text": [
      "<class 'pandas.core.frame.DataFrame'>\n",
      "RangeIndex: 891 entries, 0 to 890\n",
      "Data columns (total 12 columns):\n",
      "PassengerId    891 non-null int64\n",
      "Survived       891 non-null int64\n",
      "Pclass         891 non-null int64\n",
      "Name           891 non-null object\n",
      "Sex            891 non-null object\n",
      "Age            714 non-null float64\n",
      "SibSp          891 non-null int64\n",
      "Parch          891 non-null int64\n",
      "Ticket         891 non-null object\n",
      "Fare           891 non-null float64\n",
      "Cabin          204 non-null object\n",
      "Embarked       889 non-null object\n",
      "dtypes: float64(2), int64(5), object(5)\n",
      "memory usage: 83.6+ KB\n"
     ]
    }
   ],
   "source": [
    "train_dataset.info()"
   ]
  },
  {
   "cell_type": "markdown",
   "metadata": {},
   "source": [
    "From the info object information, we can see that indeed the dataset contains missing values at the following column(s):\n",
    "- Age\n",
    "- Cabin\n",
    "\n",
    "We will:\n",
    "- apply **Imputer** with mean strategy to handle missing Age\n",
    "- drop Cabin column since it is intuitively not useful in our analysis (as well as modeling)"
   ]
  },
  {
   "cell_type": "code",
   "execution_count": 5,
   "metadata": {},
   "outputs": [],
   "source": [
    "from collections import Counter\n",
    "\n",
    "most_common_embark = Counter(train_dataset['Embarked'].tolist()).most_common(1)[0][0]"
   ]
  },
  {
   "cell_type": "code",
   "execution_count": 6,
   "metadata": {},
   "outputs": [
    {
     "data": {
      "text/plain": [
       "'S'"
      ]
     },
     "execution_count": 6,
     "metadata": {},
     "output_type": "execute_result"
    }
   ],
   "source": [
    "most_common_embark"
   ]
  },
  {
   "cell_type": "code",
   "execution_count": 7,
   "metadata": {},
   "outputs": [],
   "source": [
    "from collections import Counter\n",
    "\n",
    "train_dataset['Embarked'].fillna(most_common_embark, inplace=True)\n",
    "\n",
    "X = train_dataset[[\n",
    "    'Sex',\n",
    "    'Pclass', \n",
    "    'Age', \n",
    "    'SibSp',\n",
    "    'Parch',\n",
    "    'Fare',\n",
    "    'Embarked'\n",
    "]].values\n",
    "y = train_dataset[['Survived']].values"
   ]
  },
  {
   "cell_type": "code",
   "execution_count": 8,
   "metadata": {
    "collapsed": true
   },
   "outputs": [],
   "source": [
    "from sklearn.impute import SimpleImputer\n",
    "\n",
    "imputer = SimpleImputer(missing_values=np.nan, strategy='mean')\n",
    "train_imputer_col = imputer.fit_transform(X[:, 2:3])\n",
    "X[:, 2:3] = train_imputer_col"
   ]
  },
  {
   "cell_type": "code",
   "execution_count": 9,
   "metadata": {},
   "outputs": [
    {
     "name": "stderr",
     "output_type": "stream",
     "text": [
      "/Users/yimkh/python/bin/anaconda3/envs/kaggle-titanic/lib/python3.6/site-packages/sklearn/preprocessing/_encoders.py:363: FutureWarning: The handling of integer data will change in version 0.22. Currently, the categories are determined based on the range [0, max(values)], while in the future they will be determined based on the unique values.\n",
      "If you want the future behaviour and silence this warning, you can specify \"categories='auto'\".\n",
      "In case you used a LabelEncoder before this OneHotEncoder to convert the categories to integers, then you can now use the OneHotEncoder directly.\n",
      "  warnings.warn(msg, FutureWarning)\n",
      "/Users/yimkh/python/bin/anaconda3/envs/kaggle-titanic/lib/python3.6/site-packages/sklearn/preprocessing/_encoders.py:385: DeprecationWarning: The 'categorical_features' keyword is deprecated in version 0.20 and will be removed in 0.22. You can use the ColumnTransformer instead.\n",
      "  \"use the ColumnTransformer instead.\", DeprecationWarning)\n"
     ]
    }
   ],
   "source": [
    "from sklearn.preprocessing import LabelEncoder, OneHotEncoder\n",
    "\n",
    "sex_encoder = LabelEncoder()\n",
    "embarked_encoder = LabelEncoder()\n",
    "\n",
    "X[:, 0] = sex_encoder.fit_transform(X[:, 0])\n",
    "X[:, 6] = embarked_encoder.fit_transform(X[:, 6])\n",
    "onehotencoder = OneHotEncoder(categorical_features = [0, 6])\n",
    "X = onehotencoder.fit_transform(X).toarray()\n",
    "\n",
    "# # Avoid dummy variables trap\n",
    "X = X[:, 1:]"
   ]
  },
  {
   "cell_type": "code",
   "execution_count": 10,
   "metadata": {},
   "outputs": [
    {
     "name": "stdout",
     "output_type": "stream",
     "text": [
      "[ 1.    0.    0.    1.    3.   22.    1.    0.    7.25]\n"
     ]
    }
   ],
   "source": [
    "# Prior to feature scaling\n",
    "print(X[0])\n",
    "\n",
    "# Apply feature scaling (a must if using neural network)\n",
    "from sklearn.preprocessing import StandardScaler\n",
    "sc = StandardScaler()\n",
    "X = sc.fit_transform(X)"
   ]
  },
  {
   "cell_type": "code",
   "execution_count": 11,
   "metadata": {},
   "outputs": [
    {
     "data": {
      "text/plain": [
       "array([ 0.73769513, -0.48204268, -0.30756234,  0.61583843,  0.82737724,\n",
       "       -0.5924806 ,  0.43279337, -0.47367361, -0.50244517])"
      ]
     },
     "execution_count": 11,
     "metadata": {},
     "output_type": "execute_result"
    }
   ],
   "source": [
    "# After feature scaling\n",
    "X[0]"
   ]
  },
  {
   "cell_type": "code",
   "execution_count": 12,
   "metadata": {
    "collapsed": true
   },
   "outputs": [],
   "source": [
    "from sklearn.model_selection import train_test_split\n",
    "\n",
    "X_train, X_test, y_train, y_test = train_test_split(X, y, test_size=0.2, random_state=5)"
   ]
  },
  {
   "cell_type": "markdown",
   "metadata": {
    "collapsed": true
   },
   "source": [
    "### Training model with Artificial Neural Network (ANN)\n",
    "Summary:<br>\n",
    "Accuracy: ~84%"
   ]
  },
  {
   "cell_type": "code",
   "execution_count": 13,
   "metadata": {},
   "outputs": [
    {
     "name": "stderr",
     "output_type": "stream",
     "text": [
      "Using TensorFlow backend.\n",
      "/Users/yimkh/python/bin/anaconda3/envs/kaggle-titanic/lib/python3.6/importlib/_bootstrap.py:205: RuntimeWarning: compiletime version 3.5 of module 'tensorflow.python.framework.fast_tensor_util' does not match runtime version 3.6\n",
      "  return f(*args, **kwds)\n"
     ]
    }
   ],
   "source": [
    "from keras.models import Sequential\n",
    "from keras.layers import Dense"
   ]
  },
  {
   "cell_type": "code",
   "execution_count": 14,
   "metadata": {
    "collapsed": true
   },
   "outputs": [],
   "source": [
    "ann = Sequential()\n",
    "ann.add(Dense(units=8, input_shape=(9,), activation='relu', kernel_initializer='uniform'))\n",
    "ann.add(Dense(units=16, activation='relu', kernel_initializer='uniform'))\n",
    "ann.add(Dense(units=1, activation='sigmoid', kernel_initializer='uniform'))\n",
    "\n",
    "ann.compile(optimizer='adam', loss='binary_crossentropy', metrics=['accuracy'])"
   ]
  },
  {
   "cell_type": "code",
   "execution_count": 15,
   "metadata": {},
   "outputs": [
    {
     "name": "stdout",
     "output_type": "stream",
     "text": [
      "_________________________________________________________________\n",
      "Layer (type)                 Output Shape              Param #   \n",
      "=================================================================\n",
      "dense_1 (Dense)              (None, 8)                 80        \n",
      "_________________________________________________________________\n",
      "dense_2 (Dense)              (None, 16)                144       \n",
      "_________________________________________________________________\n",
      "dense_3 (Dense)              (None, 1)                 17        \n",
      "=================================================================\n",
      "Total params: 241\n",
      "Trainable params: 241\n",
      "Non-trainable params: 0\n",
      "_________________________________________________________________\n"
     ]
    }
   ],
   "source": [
    "ann.summary()"
   ]
  },
  {
   "cell_type": "code",
   "execution_count": 16,
   "metadata": {
    "scrolled": true
   },
   "outputs": [
    {
     "name": "stdout",
     "output_type": "stream",
     "text": [
      "Train on 712 samples, validate on 179 samples\n",
      "Epoch 1/100\n",
      "712/712 [==============================] - 1s 874us/step - loss: 0.6864 - acc: 0.6138 - val_loss: 0.6687 - val_acc: 0.6201\n",
      "Epoch 2/100\n",
      "712/712 [==============================] - 0s 232us/step - loss: 0.6225 - acc: 0.6601 - val_loss: 0.5591 - val_acc: 0.7486\n",
      "Epoch 3/100\n",
      "712/712 [==============================] - 0s 238us/step - loss: 0.5286 - acc: 0.7683 - val_loss: 0.4870 - val_acc: 0.8156\n",
      "Epoch 4/100\n",
      "712/712 [==============================] - 0s 332us/step - loss: 0.4844 - acc: 0.7992 - val_loss: 0.4550 - val_acc: 0.8101\n",
      "Epoch 5/100\n",
      "712/712 [==============================] - 0s 241us/step - loss: 0.4630 - acc: 0.7879 - val_loss: 0.4397 - val_acc: 0.8101\n",
      "Epoch 6/100\n",
      "712/712 [==============================] - 0s 229us/step - loss: 0.4532 - acc: 0.7893 - val_loss: 0.4329 - val_acc: 0.8212\n",
      "Epoch 7/100\n",
      "712/712 [==============================] - 0s 253us/step - loss: 0.4451 - acc: 0.7893 - val_loss: 0.4288 - val_acc: 0.8324\n",
      "Epoch 8/100\n",
      "712/712 [==============================] - 0s 237us/step - loss: 0.4409 - acc: 0.8020 - val_loss: 0.4262 - val_acc: 0.8324\n",
      "Epoch 9/100\n",
      "712/712 [==============================] - 0s 223us/step - loss: 0.4361 - acc: 0.7992 - val_loss: 0.4242 - val_acc: 0.8436\n",
      "Epoch 10/100\n",
      "712/712 [==============================] - 0s 230us/step - loss: 0.4321 - acc: 0.8020 - val_loss: 0.4241 - val_acc: 0.8324\n",
      "Epoch 11/100\n",
      "712/712 [==============================] - 0s 229us/step - loss: 0.4287 - acc: 0.7978 - val_loss: 0.4222 - val_acc: 0.8324\n",
      "Epoch 12/100\n",
      "712/712 [==============================] - 0s 230us/step - loss: 0.4260 - acc: 0.8020 - val_loss: 0.4202 - val_acc: 0.8380\n",
      "Epoch 13/100\n",
      "712/712 [==============================] - 0s 234us/step - loss: 0.4241 - acc: 0.8062 - val_loss: 0.4200 - val_acc: 0.8324\n",
      "Epoch 14/100\n",
      "712/712 [==============================] - 0s 235us/step - loss: 0.4221 - acc: 0.8034 - val_loss: 0.4186 - val_acc: 0.8380\n",
      "Epoch 15/100\n",
      "712/712 [==============================] - 0s 232us/step - loss: 0.4203 - acc: 0.8104 - val_loss: 0.4184 - val_acc: 0.8380\n",
      "Epoch 16/100\n",
      "712/712 [==============================] - 0s 229us/step - loss: 0.4181 - acc: 0.8146 - val_loss: 0.4179 - val_acc: 0.8324\n",
      "Epoch 17/100\n",
      "712/712 [==============================] - 0s 229us/step - loss: 0.4185 - acc: 0.8146 - val_loss: 0.4186 - val_acc: 0.8268\n",
      "Epoch 18/100\n",
      "712/712 [==============================] - 0s 238us/step - loss: 0.4156 - acc: 0.8160 - val_loss: 0.4172 - val_acc: 0.8324\n",
      "Epoch 19/100\n",
      "712/712 [==============================] - 0s 231us/step - loss: 0.4137 - acc: 0.8174 - val_loss: 0.4163 - val_acc: 0.8324\n",
      "Epoch 20/100\n",
      "712/712 [==============================] - 0s 226us/step - loss: 0.4127 - acc: 0.8216 - val_loss: 0.4159 - val_acc: 0.8324\n",
      "Epoch 21/100\n",
      "712/712 [==============================] - 0s 235us/step - loss: 0.4117 - acc: 0.8216 - val_loss: 0.4154 - val_acc: 0.8324\n",
      "Epoch 22/100\n",
      "712/712 [==============================] - 0s 231us/step - loss: 0.4090 - acc: 0.8230 - val_loss: 0.4147 - val_acc: 0.8268\n",
      "Epoch 23/100\n",
      "712/712 [==============================] - 0s 234us/step - loss: 0.4087 - acc: 0.8188 - val_loss: 0.4143 - val_acc: 0.8324\n",
      "Epoch 24/100\n",
      "712/712 [==============================] - 0s 235us/step - loss: 0.4070 - acc: 0.8230 - val_loss: 0.4128 - val_acc: 0.8268\n",
      "Epoch 25/100\n",
      "712/712 [==============================] - 0s 230us/step - loss: 0.4061 - acc: 0.8287 - val_loss: 0.4123 - val_acc: 0.8268\n",
      "Epoch 26/100\n",
      "712/712 [==============================] - 0s 243us/step - loss: 0.4039 - acc: 0.8301 - val_loss: 0.4126 - val_acc: 0.8268\n",
      "Epoch 27/100\n",
      "712/712 [==============================] - 0s 253us/step - loss: 0.4057 - acc: 0.8287 - val_loss: 0.4117 - val_acc: 0.8324\n",
      "Epoch 28/100\n",
      "712/712 [==============================] - 0s 237us/step - loss: 0.4035 - acc: 0.8230 - val_loss: 0.4109 - val_acc: 0.8324\n",
      "Epoch 29/100\n",
      "712/712 [==============================] - 0s 228us/step - loss: 0.4020 - acc: 0.8287 - val_loss: 0.4104 - val_acc: 0.8268\n",
      "Epoch 30/100\n",
      "712/712 [==============================] - 0s 236us/step - loss: 0.4005 - acc: 0.8343 - val_loss: 0.4101 - val_acc: 0.8324\n",
      "Epoch 31/100\n",
      "712/712 [==============================] - 0s 233us/step - loss: 0.4010 - acc: 0.8258 - val_loss: 0.4098 - val_acc: 0.8324\n",
      "Epoch 32/100\n",
      "712/712 [==============================] - 0s 245us/step - loss: 0.4001 - acc: 0.8385 - val_loss: 0.4107 - val_acc: 0.8324\n",
      "Epoch 33/100\n",
      "712/712 [==============================] - 0s 245us/step - loss: 0.4002 - acc: 0.8343 - val_loss: 0.4093 - val_acc: 0.8324\n",
      "Epoch 34/100\n",
      "712/712 [==============================] - 0s 236us/step - loss: 0.3983 - acc: 0.8385 - val_loss: 0.4106 - val_acc: 0.8324\n",
      "Epoch 35/100\n",
      "712/712 [==============================] - 0s 232us/step - loss: 0.3979 - acc: 0.8329 - val_loss: 0.4106 - val_acc: 0.8324\n",
      "Epoch 36/100\n",
      "712/712 [==============================] - 0s 290us/step - loss: 0.3974 - acc: 0.8287 - val_loss: 0.4108 - val_acc: 0.8324\n",
      "Epoch 37/100\n",
      "712/712 [==============================] - 0s 394us/step - loss: 0.3982 - acc: 0.8315 - val_loss: 0.4115 - val_acc: 0.8324\n",
      "Epoch 38/100\n",
      "712/712 [==============================] - 0s 388us/step - loss: 0.3961 - acc: 0.8385 - val_loss: 0.4114 - val_acc: 0.8324\n",
      "Epoch 39/100\n",
      "712/712 [==============================] - 0s 302us/step - loss: 0.3964 - acc: 0.8385 - val_loss: 0.4108 - val_acc: 0.8324\n",
      "Epoch 40/100\n",
      "712/712 [==============================] - 0s 333us/step - loss: 0.3954 - acc: 0.8413 - val_loss: 0.4108 - val_acc: 0.8324\n",
      "Epoch 41/100\n",
      "712/712 [==============================] - 0s 308us/step - loss: 0.3952 - acc: 0.8385 - val_loss: 0.4118 - val_acc: 0.8380\n",
      "Epoch 42/100\n",
      "712/712 [==============================] - 0s 248us/step - loss: 0.3936 - acc: 0.8413 - val_loss: 0.4125 - val_acc: 0.8436\n",
      "Epoch 43/100\n",
      "712/712 [==============================] - 0s 228us/step - loss: 0.3935 - acc: 0.8413 - val_loss: 0.4115 - val_acc: 0.8436\n",
      "Epoch 44/100\n",
      "712/712 [==============================] - 0s 233us/step - loss: 0.3934 - acc: 0.8399 - val_loss: 0.4121 - val_acc: 0.8436\n",
      "Epoch 45/100\n",
      "712/712 [==============================] - 0s 267us/step - loss: 0.3934 - acc: 0.8413 - val_loss: 0.4123 - val_acc: 0.8436\n",
      "Epoch 46/100\n",
      "712/712 [==============================] - 0s 280us/step - loss: 0.3933 - acc: 0.8315 - val_loss: 0.4138 - val_acc: 0.8380\n",
      "Epoch 47/100\n",
      "712/712 [==============================] - 0s 245us/step - loss: 0.3932 - acc: 0.8371 - val_loss: 0.4148 - val_acc: 0.8380\n",
      "Epoch 48/100\n",
      "712/712 [==============================] - 0s 235us/step - loss: 0.3941 - acc: 0.8413 - val_loss: 0.4149 - val_acc: 0.8380\n",
      "Epoch 49/100\n",
      "712/712 [==============================] - 0s 275us/step - loss: 0.3904 - acc: 0.8441 - val_loss: 0.4146 - val_acc: 0.8436\n",
      "Epoch 50/100\n",
      "712/712 [==============================] - 0s 293us/step - loss: 0.3917 - acc: 0.8455 - val_loss: 0.4146 - val_acc: 0.8492\n",
      "Epoch 51/100\n",
      "712/712 [==============================] - 0s 258us/step - loss: 0.3918 - acc: 0.8343 - val_loss: 0.4157 - val_acc: 0.8436\n",
      "Epoch 52/100\n",
      "712/712 [==============================] - 0s 264us/step - loss: 0.3912 - acc: 0.8371 - val_loss: 0.4140 - val_acc: 0.8380\n",
      "Epoch 53/100\n",
      "712/712 [==============================] - 0s 278us/step - loss: 0.3921 - acc: 0.8427 - val_loss: 0.4154 - val_acc: 0.8492\n",
      "Epoch 54/100\n",
      "712/712 [==============================] - 0s 258us/step - loss: 0.3900 - acc: 0.8343 - val_loss: 0.4147 - val_acc: 0.8436\n",
      "Epoch 55/100\n",
      "712/712 [==============================] - 0s 235us/step - loss: 0.3910 - acc: 0.8413 - val_loss: 0.4141 - val_acc: 0.8436\n",
      "Epoch 56/100\n",
      "712/712 [==============================] - 0s 255us/step - loss: 0.3894 - acc: 0.8427 - val_loss: 0.4136 - val_acc: 0.8436\n",
      "Epoch 57/100\n",
      "712/712 [==============================] - 0s 286us/step - loss: 0.3896 - acc: 0.8371 - val_loss: 0.4144 - val_acc: 0.8436\n",
      "Epoch 58/100\n",
      "712/712 [==============================] - 0s 231us/step - loss: 0.3895 - acc: 0.8399 - val_loss: 0.4149 - val_acc: 0.8380\n",
      "Epoch 59/100\n",
      "712/712 [==============================] - 0s 233us/step - loss: 0.3891 - acc: 0.8413 - val_loss: 0.4151 - val_acc: 0.8492\n",
      "Epoch 60/100\n",
      "712/712 [==============================] - 0s 245us/step - loss: 0.3905 - acc: 0.8357 - val_loss: 0.4148 - val_acc: 0.8492\n"
     ]
    },
    {
     "name": "stdout",
     "output_type": "stream",
     "text": [
      "Epoch 61/100\n",
      "712/712 [==============================] - 0s 277us/step - loss: 0.3883 - acc: 0.8371 - val_loss: 0.4153 - val_acc: 0.8436\n",
      "Epoch 62/100\n",
      "712/712 [==============================] - 0s 235us/step - loss: 0.3889 - acc: 0.8357 - val_loss: 0.4139 - val_acc: 0.8492\n",
      "Epoch 63/100\n",
      "712/712 [==============================] - 0s 231us/step - loss: 0.3880 - acc: 0.8399 - val_loss: 0.4145 - val_acc: 0.8492\n",
      "Epoch 64/100\n",
      "712/712 [==============================] - 0s 225us/step - loss: 0.3877 - acc: 0.8399 - val_loss: 0.4164 - val_acc: 0.8436\n",
      "Epoch 65/100\n",
      "712/712 [==============================] - 0s 275us/step - loss: 0.3890 - acc: 0.8385 - val_loss: 0.4159 - val_acc: 0.8436\n",
      "Epoch 66/100\n",
      "712/712 [==============================] - 0s 309us/step - loss: 0.3876 - acc: 0.8399 - val_loss: 0.4165 - val_acc: 0.8492\n",
      "Epoch 67/100\n",
      "712/712 [==============================] - 0s 291us/step - loss: 0.3889 - acc: 0.8371 - val_loss: 0.4164 - val_acc: 0.8492\n",
      "Epoch 68/100\n",
      "712/712 [==============================] - 0s 289us/step - loss: 0.3886 - acc: 0.8399 - val_loss: 0.4172 - val_acc: 0.8436\n",
      "Epoch 69/100\n",
      "712/712 [==============================] - 0s 289us/step - loss: 0.3905 - acc: 0.8385 - val_loss: 0.4184 - val_acc: 0.8380\n",
      "Epoch 70/100\n",
      "712/712 [==============================] - 0s 307us/step - loss: 0.3865 - acc: 0.8427 - val_loss: 0.4172 - val_acc: 0.8492\n",
      "Epoch 71/100\n",
      "712/712 [==============================] - 0s 301us/step - loss: 0.3886 - acc: 0.8385 - val_loss: 0.4169 - val_acc: 0.8492\n",
      "Epoch 72/100\n",
      "712/712 [==============================] - 0s 272us/step - loss: 0.3872 - acc: 0.8441 - val_loss: 0.4171 - val_acc: 0.8436\n",
      "Epoch 73/100\n",
      "712/712 [==============================] - 0s 262us/step - loss: 0.3881 - acc: 0.8357 - val_loss: 0.4159 - val_acc: 0.8436\n",
      "Epoch 74/100\n",
      "712/712 [==============================] - 0s 296us/step - loss: 0.3868 - acc: 0.8441 - val_loss: 0.4160 - val_acc: 0.8492\n",
      "Epoch 75/100\n",
      "712/712 [==============================] - 0s 276us/step - loss: 0.3861 - acc: 0.8441 - val_loss: 0.4181 - val_acc: 0.8436\n",
      "Epoch 76/100\n",
      "712/712 [==============================] - 0s 234us/step - loss: 0.3870 - acc: 0.8441 - val_loss: 0.4193 - val_acc: 0.8380\n",
      "Epoch 77/100\n",
      "712/712 [==============================] - 0s 227us/step - loss: 0.3860 - acc: 0.8357 - val_loss: 0.4185 - val_acc: 0.8436\n",
      "Epoch 78/100\n",
      "712/712 [==============================] - 0s 263us/step - loss: 0.3863 - acc: 0.8371 - val_loss: 0.4189 - val_acc: 0.8380\n",
      "Epoch 79/100\n",
      "712/712 [==============================] - 0s 287us/step - loss: 0.3854 - acc: 0.8385 - val_loss: 0.4194 - val_acc: 0.8380\n",
      "Epoch 80/100\n",
      "712/712 [==============================] - 0s 251us/step - loss: 0.3867 - acc: 0.8413 - val_loss: 0.4195 - val_acc: 0.8436\n",
      "Epoch 81/100\n",
      "712/712 [==============================] - 0s 287us/step - loss: 0.3849 - acc: 0.8385 - val_loss: 0.4216 - val_acc: 0.8380\n",
      "Epoch 82/100\n",
      "712/712 [==============================] - 0s 334us/step - loss: 0.3848 - acc: 0.8427 - val_loss: 0.4218 - val_acc: 0.8380\n",
      "Epoch 83/100\n",
      "712/712 [==============================] - 0s 235us/step - loss: 0.3850 - acc: 0.8357 - val_loss: 0.4214 - val_acc: 0.8380\n",
      "Epoch 84/100\n",
      "712/712 [==============================] - 0s 233us/step - loss: 0.3856 - acc: 0.8385 - val_loss: 0.4208 - val_acc: 0.8380\n",
      "Epoch 85/100\n",
      "712/712 [==============================] - 0s 231us/step - loss: 0.3842 - acc: 0.8371 - val_loss: 0.4193 - val_acc: 0.8492\n",
      "Epoch 86/100\n",
      "712/712 [==============================] - 0s 329us/step - loss: 0.3855 - acc: 0.8385 - val_loss: 0.4206 - val_acc: 0.8436\n",
      "Epoch 87/100\n",
      "712/712 [==============================] - 0s 314us/step - loss: 0.3833 - acc: 0.8413 - val_loss: 0.4211 - val_acc: 0.8380\n",
      "Epoch 88/100\n",
      "712/712 [==============================] - 0s 261us/step - loss: 0.3841 - acc: 0.8357 - val_loss: 0.4208 - val_acc: 0.8436\n",
      "Epoch 89/100\n",
      "712/712 [==============================] - 0s 236us/step - loss: 0.3833 - acc: 0.8399 - val_loss: 0.4202 - val_acc: 0.8492\n",
      "Epoch 90/100\n",
      "712/712 [==============================] - 0s 254us/step - loss: 0.3845 - acc: 0.8385 - val_loss: 0.4198 - val_acc: 0.8436\n",
      "Epoch 91/100\n",
      "712/712 [==============================] - 0s 320us/step - loss: 0.3827 - acc: 0.8399 - val_loss: 0.4186 - val_acc: 0.8324\n",
      "Epoch 92/100\n",
      "712/712 [==============================] - 0s 240us/step - loss: 0.3851 - acc: 0.8385 - val_loss: 0.4198 - val_acc: 0.8492\n",
      "Epoch 93/100\n",
      "712/712 [==============================] - 0s 235us/step - loss: 0.3840 - acc: 0.8343 - val_loss: 0.4206 - val_acc: 0.8492\n",
      "Epoch 94/100\n",
      "712/712 [==============================] - 0s 232us/step - loss: 0.3833 - acc: 0.8399 - val_loss: 0.4199 - val_acc: 0.8436\n",
      "Epoch 95/100\n",
      "712/712 [==============================] - 0s 250us/step - loss: 0.3840 - acc: 0.8441 - val_loss: 0.4202 - val_acc: 0.8547\n",
      "Epoch 96/100\n",
      "712/712 [==============================] - 0s 277us/step - loss: 0.3842 - acc: 0.8315 - val_loss: 0.4191 - val_acc: 0.8547\n",
      "Epoch 97/100\n",
      "712/712 [==============================] - 0s 248us/step - loss: 0.3820 - acc: 0.8371 - val_loss: 0.4211 - val_acc: 0.8380\n",
      "Epoch 98/100\n",
      "712/712 [==============================] - 0s 301us/step - loss: 0.3830 - acc: 0.8483 - val_loss: 0.4198 - val_acc: 0.8436\n",
      "Epoch 99/100\n",
      "712/712 [==============================] - 0s 257us/step - loss: 0.3826 - acc: 0.8385 - val_loss: 0.4209 - val_acc: 0.8436\n",
      "Epoch 100/100\n",
      "712/712 [==============================] - 0s 262us/step - loss: 0.3821 - acc: 0.8413 - val_loss: 0.4204 - val_acc: 0.8547\n"
     ]
    },
    {
     "data": {
      "text/plain": [
       "<keras.callbacks.History at 0x129fe1be0>"
      ]
     },
     "execution_count": 16,
     "metadata": {},
     "output_type": "execute_result"
    }
   ],
   "source": [
    "ann.fit(X_train, y_train, batch_size=10, epochs=100, validation_data=(X_test, y_test))"
   ]
  },
  {
   "cell_type": "code",
   "execution_count": 17,
   "metadata": {
    "collapsed": true
   },
   "outputs": [],
   "source": [
    "y_pred = ann.predict(X_test)\n",
    "y_pred = (y_pred > 0.5)"
   ]
  },
  {
   "cell_type": "code",
   "execution_count": 18,
   "metadata": {},
   "outputs": [
    {
     "name": "stdout",
     "output_type": "stream",
     "text": [
      "[[103   8]\n",
      " [ 18  50]]\n",
      "              precision    recall  f1-score   support\n",
      "\n",
      "           0       0.85      0.93      0.89       111\n",
      "           1       0.86      0.74      0.79        68\n",
      "\n",
      "   micro avg       0.85      0.85      0.85       179\n",
      "   macro avg       0.86      0.83      0.84       179\n",
      "weighted avg       0.86      0.85      0.85       179\n",
      "\n"
     ]
    }
   ],
   "source": [
    "from sklearn.metrics import classification_report, confusion_matrix\n",
    "\n",
    "cm = confusion_matrix(y_test, y_pred)\n",
    "report = classification_report(y_test, y_pred)\n",
    "print(cm)\n",
    "print(report)"
   ]
  },
  {
   "cell_type": "markdown",
   "metadata": {
    "collapsed": true
   },
   "source": [
    "### Train model with random forest"
   ]
  },
  {
   "cell_type": "code",
   "execution_count": 19,
   "metadata": {},
   "outputs": [
    {
     "name": "stderr",
     "output_type": "stream",
     "text": [
      "/Users/yimkh/python/bin/anaconda3/envs/kaggle-titanic/lib/python3.6/site-packages/ipykernel_launcher.py:4: DataConversionWarning: A column-vector y was passed when a 1d array was expected. Please change the shape of y to (n_samples,), for example using ravel().\n",
      "  after removing the cwd from sys.path.\n"
     ]
    }
   ],
   "source": [
    "from sklearn.ensemble import RandomForestClassifier\n",
    "\n",
    "random_forest = RandomForestClassifier(n_estimators=100)\n",
    "random_forest.fit(X_train, y_train)\n",
    "\n",
    "y_pred = random_forest.predict(X_test)"
   ]
  },
  {
   "cell_type": "code",
   "execution_count": 20,
   "metadata": {},
   "outputs": [
    {
     "name": "stdout",
     "output_type": "stream",
     "text": [
      "[[100  11]\n",
      " [ 19  49]]\n",
      "              precision    recall  f1-score   support\n",
      "\n",
      "           0       0.84      0.90      0.87       111\n",
      "           1       0.82      0.72      0.77        68\n",
      "\n",
      "   micro avg       0.83      0.83      0.83       179\n",
      "   macro avg       0.83      0.81      0.82       179\n",
      "weighted avg       0.83      0.83      0.83       179\n",
      "\n"
     ]
    }
   ],
   "source": [
    "from sklearn.metrics import classification_report, confusion_matrix\n",
    "\n",
    "cm = confusion_matrix(y_test, y_pred)\n",
    "report = classification_report(y_test, y_pred)\n",
    "print(cm)\n",
    "print(report)"
   ]
  },
  {
   "cell_type": "markdown",
   "metadata": {},
   "source": [
    "### Classify the testing set for submission to Kaggle\n",
    "ANN appear to perform better, hence we will use it to classify the survival for the testing set"
   ]
  },
  {
   "cell_type": "code",
   "execution_count": null,
   "metadata": {
    "collapsed": true
   },
   "outputs": [],
   "source": []
  }
 ],
 "metadata": {
  "kernelspec": {
   "display_name": "kaggle-titanic",
   "language": "python",
   "name": "kaggle-titanic"
  },
  "language_info": {
   "codemirror_mode": {
    "name": "ipython",
    "version": 3
   },
   "file_extension": ".py",
   "mimetype": "text/x-python",
   "name": "python",
   "nbconvert_exporter": "python",
   "pygments_lexer": "ipython3",
   "version": "3.6.2"
  }
 },
 "nbformat": 4,
 "nbformat_minor": 2
}
