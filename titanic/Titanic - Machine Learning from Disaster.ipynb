{
 "cells": [
  {
   "cell_type": "code",
   "execution_count": 1,
   "metadata": {
    "collapsed": true
   },
   "outputs": [],
   "source": [
    "%matplotlib inline\n",
    "\n",
    "import numpy as np\n",
    "import pandas as pd\n",
    "import seaborn as sns"
   ]
  },
  {
   "cell_type": "code",
   "execution_count": 2,
   "metadata": {
    "collapsed": true
   },
   "outputs": [],
   "source": [
    "train_dataset = pd.read_csv('data/train.csv')\n",
    "test_dataset = pd.read_csv('data/test.csv')"
   ]
  },
  {
   "cell_type": "markdown",
   "metadata": {},
   "source": [
    "### Data preprocessing & Feature Engineering\n",
    "Its always a good practice to go through the following checklists to preprocess our dataset\n",
    "- Split the dataset into X (attributes) and y (label)\n",
    "- Check if contains missing values\n",
    "- Check if continuous attribute(s) contain any outliers\n",
    "- Some misc properties of the dataset"
   ]
  },
  {
   "cell_type": "code",
   "execution_count": 3,
   "metadata": {},
   "outputs": [
    {
     "data": {
      "text/html": [
       "<div>\n",
       "<style scoped>\n",
       "    .dataframe tbody tr th:only-of-type {\n",
       "        vertical-align: middle;\n",
       "    }\n",
       "\n",
       "    .dataframe tbody tr th {\n",
       "        vertical-align: top;\n",
       "    }\n",
       "\n",
       "    .dataframe thead th {\n",
       "        text-align: right;\n",
       "    }\n",
       "</style>\n",
       "<table border=\"1\" class=\"dataframe\">\n",
       "  <thead>\n",
       "    <tr style=\"text-align: right;\">\n",
       "      <th></th>\n",
       "      <th>PassengerId</th>\n",
       "      <th>Survived</th>\n",
       "      <th>Pclass</th>\n",
       "      <th>Name</th>\n",
       "      <th>Sex</th>\n",
       "      <th>Age</th>\n",
       "      <th>SibSp</th>\n",
       "      <th>Parch</th>\n",
       "      <th>Ticket</th>\n",
       "      <th>Fare</th>\n",
       "      <th>Cabin</th>\n",
       "      <th>Embarked</th>\n",
       "    </tr>\n",
       "  </thead>\n",
       "  <tbody>\n",
       "    <tr>\n",
       "      <th>0</th>\n",
       "      <td>1</td>\n",
       "      <td>0</td>\n",
       "      <td>3</td>\n",
       "      <td>Braund, Mr. Owen Harris</td>\n",
       "      <td>male</td>\n",
       "      <td>22.0</td>\n",
       "      <td>1</td>\n",
       "      <td>0</td>\n",
       "      <td>A/5 21171</td>\n",
       "      <td>7.2500</td>\n",
       "      <td>NaN</td>\n",
       "      <td>S</td>\n",
       "    </tr>\n",
       "    <tr>\n",
       "      <th>1</th>\n",
       "      <td>2</td>\n",
       "      <td>1</td>\n",
       "      <td>1</td>\n",
       "      <td>Cumings, Mrs. John Bradley (Florence Briggs Th...</td>\n",
       "      <td>female</td>\n",
       "      <td>38.0</td>\n",
       "      <td>1</td>\n",
       "      <td>0</td>\n",
       "      <td>PC 17599</td>\n",
       "      <td>71.2833</td>\n",
       "      <td>C85</td>\n",
       "      <td>C</td>\n",
       "    </tr>\n",
       "    <tr>\n",
       "      <th>2</th>\n",
       "      <td>3</td>\n",
       "      <td>1</td>\n",
       "      <td>3</td>\n",
       "      <td>Heikkinen, Miss. Laina</td>\n",
       "      <td>female</td>\n",
       "      <td>26.0</td>\n",
       "      <td>0</td>\n",
       "      <td>0</td>\n",
       "      <td>STON/O2. 3101282</td>\n",
       "      <td>7.9250</td>\n",
       "      <td>NaN</td>\n",
       "      <td>S</td>\n",
       "    </tr>\n",
       "    <tr>\n",
       "      <th>3</th>\n",
       "      <td>4</td>\n",
       "      <td>1</td>\n",
       "      <td>1</td>\n",
       "      <td>Futrelle, Mrs. Jacques Heath (Lily May Peel)</td>\n",
       "      <td>female</td>\n",
       "      <td>35.0</td>\n",
       "      <td>1</td>\n",
       "      <td>0</td>\n",
       "      <td>113803</td>\n",
       "      <td>53.1000</td>\n",
       "      <td>C123</td>\n",
       "      <td>S</td>\n",
       "    </tr>\n",
       "    <tr>\n",
       "      <th>4</th>\n",
       "      <td>5</td>\n",
       "      <td>0</td>\n",
       "      <td>3</td>\n",
       "      <td>Allen, Mr. William Henry</td>\n",
       "      <td>male</td>\n",
       "      <td>35.0</td>\n",
       "      <td>0</td>\n",
       "      <td>0</td>\n",
       "      <td>373450</td>\n",
       "      <td>8.0500</td>\n",
       "      <td>NaN</td>\n",
       "      <td>S</td>\n",
       "    </tr>\n",
       "  </tbody>\n",
       "</table>\n",
       "</div>"
      ],
      "text/plain": [
       "   PassengerId  Survived  Pclass  \\\n",
       "0            1         0       3   \n",
       "1            2         1       1   \n",
       "2            3         1       3   \n",
       "3            4         1       1   \n",
       "4            5         0       3   \n",
       "\n",
       "                                                Name     Sex   Age  SibSp  \\\n",
       "0                            Braund, Mr. Owen Harris    male  22.0      1   \n",
       "1  Cumings, Mrs. John Bradley (Florence Briggs Th...  female  38.0      1   \n",
       "2                             Heikkinen, Miss. Laina  female  26.0      0   \n",
       "3       Futrelle, Mrs. Jacques Heath (Lily May Peel)  female  35.0      1   \n",
       "4                           Allen, Mr. William Henry    male  35.0      0   \n",
       "\n",
       "   Parch            Ticket     Fare Cabin Embarked  \n",
       "0      0         A/5 21171   7.2500   NaN        S  \n",
       "1      0          PC 17599  71.2833   C85        C  \n",
       "2      0  STON/O2. 3101282   7.9250   NaN        S  \n",
       "3      0            113803  53.1000  C123        S  \n",
       "4      0            373450   8.0500   NaN        S  "
      ]
     },
     "execution_count": 3,
     "metadata": {},
     "output_type": "execute_result"
    }
   ],
   "source": [
    "train_dataset.head()"
   ]
  },
  {
   "cell_type": "code",
   "execution_count": 4,
   "metadata": {},
   "outputs": [
    {
     "name": "stdout",
     "output_type": "stream",
     "text": [
      "<class 'pandas.core.frame.DataFrame'>\n",
      "RangeIndex: 891 entries, 0 to 890\n",
      "Data columns (total 12 columns):\n",
      "PassengerId    891 non-null int64\n",
      "Survived       891 non-null int64\n",
      "Pclass         891 non-null int64\n",
      "Name           891 non-null object\n",
      "Sex            891 non-null object\n",
      "Age            714 non-null float64\n",
      "SibSp          891 non-null int64\n",
      "Parch          891 non-null int64\n",
      "Ticket         891 non-null object\n",
      "Fare           891 non-null float64\n",
      "Cabin          204 non-null object\n",
      "Embarked       889 non-null object\n",
      "dtypes: float64(2), int64(5), object(5)\n",
      "memory usage: 83.6+ KB\n",
      "_\n",
      "<class 'pandas.core.frame.DataFrame'>\n",
      "RangeIndex: 418 entries, 0 to 417\n",
      "Data columns (total 11 columns):\n",
      "PassengerId    418 non-null int64\n",
      "Pclass         418 non-null int64\n",
      "Name           418 non-null object\n",
      "Sex            418 non-null object\n",
      "Age            332 non-null float64\n",
      "SibSp          418 non-null int64\n",
      "Parch          418 non-null int64\n",
      "Ticket         418 non-null object\n",
      "Fare           417 non-null float64\n",
      "Cabin          91 non-null object\n",
      "Embarked       418 non-null object\n",
      "dtypes: float64(2), int64(4), object(5)\n",
      "memory usage: 36.0+ KB\n"
     ]
    }
   ],
   "source": [
    "train_dataset.info()\n",
    "print('_')\n",
    "test_dataset.info()"
   ]
  },
  {
   "cell_type": "markdown",
   "metadata": {},
   "source": [
    "From the info object information, we can see that indeed the dataset contains missing values at the following column(s):\n",
    "- Age\n",
    "- Cabin\n",
    "\n",
    "We will:\n",
    "- apply **Imputer** with mean strategy to handle missing Age\n",
    "- drop Cabin column since it is intuitively not useful in our analysis (as well as modeling)"
   ]
  },
  {
   "cell_type": "code",
   "execution_count": 94,
   "metadata": {},
   "outputs": [
    {
     "name": "stderr",
     "output_type": "stream",
     "text": [
      "/Users/yimkh/python/bin/anaconda3/envs/kaggle-titanic/lib/python3.6/site-packages/ipykernel_launcher.py:20: SettingWithCopyWarning: \n",
      "A value is trying to be set on a copy of a slice from a DataFrame.\n",
      "Try using .loc[row_indexer,col_indexer] = value instead\n",
      "\n",
      "See the caveats in the documentation: http://pandas.pydata.org/pandas-docs/stable/indexing.html#indexing-view-versus-copy\n"
     ]
    }
   ],
   "source": [
    "X_train = train_dataset[[\n",
    "    'Sex',\n",
    "    'Pclass', \n",
    "    'Age', \n",
    "    'SibSp',\n",
    "    'Parch',\n",
    "    'Fare'\n",
    "]].values\n",
    "y_train = train_dataset[['Survived']].values\n",
    "\n",
    "mean_fare = train_dataset.Fare.mean()\n",
    "X_test = test_dataset[[\n",
    "    'Sex',\n",
    "    'Pclass',\n",
    "    'Age',\n",
    "    'SibSp',\n",
    "    'Parch',\n",
    "    'Fare'\n",
    "]]\n",
    "X_test['Fare'] = X_test['Fare'].fillna(mean_fare)\n",
    "X_test = X_test.values"
   ]
  },
  {
   "cell_type": "code",
   "execution_count": 95,
   "metadata": {},
   "outputs": [],
   "source": [
    "from sklearn.impute import SimpleImputer\n",
    "imputer = SimpleImputer(missing_values=np.nan, strategy='mean')\n",
    "train_imputer_col = imputer.fit_transform(X_train[:, 2:3])\n",
    "test_imputer_col = imputer.transform(X_test[:, 2:3])\n",
    "X_train[:, 2:3] = train_imputer_col\n",
    "X_test[:, 2:3] = test_imputer_col"
   ]
  },
  {
   "cell_type": "code",
   "execution_count": 96,
   "metadata": {},
   "outputs": [
    {
     "name": "stderr",
     "output_type": "stream",
     "text": [
      "/Users/yimkh/python/bin/anaconda3/envs/kaggle-titanic/lib/python3.6/site-packages/sklearn/preprocessing/_encoders.py:363: FutureWarning: The handling of integer data will change in version 0.22. Currently, the categories are determined based on the range [0, max(values)], while in the future they will be determined based on the unique values.\n",
      "If you want the future behaviour and silence this warning, you can specify \"categories='auto'\".\n",
      "In case you used a LabelEncoder before this OneHotEncoder to convert the categories to integers, then you can now use the OneHotEncoder directly.\n",
      "  warnings.warn(msg, FutureWarning)\n",
      "/Users/yimkh/python/bin/anaconda3/envs/kaggle-titanic/lib/python3.6/site-packages/sklearn/preprocessing/_encoders.py:385: DeprecationWarning: The 'categorical_features' keyword is deprecated in version 0.20 and will be removed in 0.22. You can use the ColumnTransformer instead.\n",
      "  \"use the ColumnTransformer instead.\", DeprecationWarning)\n"
     ]
    }
   ],
   "source": [
    "from sklearn.preprocessing import LabelEncoder, OneHotEncoder\n",
    "\n",
    "sex_encoder = LabelEncoder()\n",
    "\n",
    "X_train[:, 0] = sex_encoder.fit_transform(X_train[:, 0])\n",
    "X_test[:, 0] = sex_encoder.transform(X_test[:, 0])\n",
    "\n",
    "onehotencoder = OneHotEncoder(categorical_features = [0])\n",
    "X_train = onehotencoder.fit_transform(X_train).toarray()\n",
    "X_test = onehotencoder.transform(X_test).toarray()\n",
    "\n",
    "# # Avoid dummy variables trap\n",
    "X_train = X_train[:, 1:]\n",
    "X_test = X_test[:, 1:]"
   ]
  },
  {
   "cell_type": "code",
   "execution_count": 98,
   "metadata": {},
   "outputs": [
    {
     "name": "stdout",
     "output_type": "stream",
     "text": [
      "[ 1.    3.   22.    1.    0.    7.25]\n"
     ]
    }
   ],
   "source": [
    "# Prior to feature scaling\n",
    "print(X_train[0])\n",
    "\n",
    "# Apply feature scaling (a must if using neural network)\n",
    "from sklearn.preprocessing import StandardScaler\n",
    "sc = StandardScaler()\n",
    "X_train = sc.fit_transform(X_train)\n",
    "X_test = sc.transform(X_test)"
   ]
  },
  {
   "cell_type": "code",
   "execution_count": 99,
   "metadata": {},
   "outputs": [
    {
     "data": {
      "text/plain": [
       "array([ 0.73769513,  0.82737724, -0.5924806 ,  0.43279337, -0.47367361,\n",
       "       -0.50244517])"
      ]
     },
     "execution_count": 99,
     "metadata": {},
     "output_type": "execute_result"
    }
   ],
   "source": [
    "# After feature scaling\n",
    "X_train[0]"
   ]
  },
  {
   "cell_type": "markdown",
   "metadata": {
    "collapsed": true
   },
   "source": [
    "### Training model with artificial neural network (ANN), with automatic feature engineering (using library)"
   ]
  },
  {
   "cell_type": "code",
   "execution_count": 100,
   "metadata": {},
   "outputs": [
    {
     "name": "stderr",
     "output_type": "stream",
     "text": [
      "Using TensorFlow backend.\n",
      "/Users/yimkh/python/bin/anaconda3/envs/kaggle-titanic/lib/python3.6/importlib/_bootstrap.py:205: RuntimeWarning: compiletime version 3.5 of module 'tensorflow.python.framework.fast_tensor_util' does not match runtime version 3.6\n",
      "  return f(*args, **kwds)\n"
     ]
    }
   ],
   "source": [
    "from keras.models import Sequential\n",
    "from keras.layers import Dense"
   ]
  },
  {
   "cell_type": "code",
   "execution_count": 101,
   "metadata": {},
   "outputs": [],
   "source": [
    "classifier = Sequential()\n",
    "classifier.add(Dense(units=8, input_shape=(6,), activation='relu', kernel_initializer='uniform'))\n",
    "classifier.add(Dense(units=16, activation='relu', kernel_initializer='uniform'))\n",
    "classifier.add(Dense(units=1, activation='sigmoid', kernel_initializer='uniform'))\n",
    "\n",
    "classifier.compile(optimizer='adam', loss='binary_crossentropy', metrics=['accuracy'])"
   ]
  },
  {
   "cell_type": "code",
   "execution_count": 102,
   "metadata": {},
   "outputs": [
    {
     "name": "stdout",
     "output_type": "stream",
     "text": [
      "_________________________________________________________________\n",
      "Layer (type)                 Output Shape              Param #   \n",
      "=================================================================\n",
      "dense_1 (Dense)              (None, 8)                 56        \n",
      "_________________________________________________________________\n",
      "dense_2 (Dense)              (None, 16)                144       \n",
      "_________________________________________________________________\n",
      "dense_3 (Dense)              (None, 1)                 17        \n",
      "=================================================================\n",
      "Total params: 217\n",
      "Trainable params: 217\n",
      "Non-trainable params: 0\n",
      "_________________________________________________________________\n"
     ]
    }
   ],
   "source": [
    "classifier.summary()"
   ]
  },
  {
   "cell_type": "code",
   "execution_count": 103,
   "metadata": {
    "scrolled": true
   },
   "outputs": [
    {
     "name": "stdout",
     "output_type": "stream",
     "text": [
      "Epoch 1/100\n",
      "891/891 [==============================] - 1s 709us/step - loss: 0.6864 - acc: 0.6207\n",
      "Epoch 2/100\n",
      "891/891 [==============================] - 0s 342us/step - loss: 0.5962 - acc: 0.7497\n",
      "Epoch 3/100\n",
      "891/891 [==============================] - 0s 233us/step - loss: 0.4820 - acc: 0.8070\n",
      "Epoch 4/100\n",
      "891/891 [==============================] - 0s 223us/step - loss: 0.4523 - acc: 0.8013\n",
      "Epoch 5/100\n",
      "891/891 [==============================] - 0s 297us/step - loss: 0.4411 - acc: 0.8092\n",
      "Epoch 6/100\n",
      "891/891 [==============================] - 0s 227us/step - loss: 0.4353 - acc: 0.8103\n",
      "Epoch 7/100\n",
      "891/891 [==============================] - 0s 214us/step - loss: 0.4325 - acc: 0.8081\n",
      "Epoch 8/100\n",
      "891/891 [==============================] - 0s 220us/step - loss: 0.4285 - acc: 0.8114\n",
      "Epoch 9/100\n",
      "891/891 [==============================] - 0s 230us/step - loss: 0.4264 - acc: 0.8103\n",
      "Epoch 10/100\n",
      "891/891 [==============================] - 0s 368us/step - loss: 0.4245 - acc: 0.8159\n",
      "Epoch 11/100\n",
      "891/891 [==============================] - 0s 263us/step - loss: 0.4233 - acc: 0.8148\n",
      "Epoch 12/100\n",
      "891/891 [==============================] - 0s 225us/step - loss: 0.4213 - acc: 0.8171\n",
      "Epoch 13/100\n",
      "891/891 [==============================] - 0s 316us/step - loss: 0.4215 - acc: 0.8171\n",
      "Epoch 14/100\n",
      "891/891 [==============================] - 0s 238us/step - loss: 0.4205 - acc: 0.8204\n",
      "Epoch 15/100\n",
      "891/891 [==============================] - 0s 219us/step - loss: 0.4195 - acc: 0.8148\n",
      "Epoch 16/100\n",
      "891/891 [==============================] - 0s 217us/step - loss: 0.4187 - acc: 0.8193\n",
      "Epoch 17/100\n",
      "891/891 [==============================] - 0s 219us/step - loss: 0.4176 - acc: 0.8193\n",
      "Epoch 18/100\n",
      "891/891 [==============================] - 0s 234us/step - loss: 0.4181 - acc: 0.8227\n",
      "Epoch 19/100\n",
      "891/891 [==============================] - 0s 227us/step - loss: 0.4186 - acc: 0.8159\n",
      "Epoch 20/100\n",
      "891/891 [==============================] - 0s 258us/step - loss: 0.4167 - acc: 0.8182\n",
      "Epoch 21/100\n",
      "891/891 [==============================] - 0s 273us/step - loss: 0.4167 - acc: 0.8148\n",
      "Epoch 22/100\n",
      "891/891 [==============================] - 0s 244us/step - loss: 0.4164 - acc: 0.8148\n",
      "Epoch 23/100\n",
      "891/891 [==============================] - 0s 245us/step - loss: 0.4161 - acc: 0.8182\n",
      "Epoch 24/100\n",
      "891/891 [==============================] - 0s 283us/step - loss: 0.4163 - acc: 0.8227\n",
      "Epoch 25/100\n",
      "891/891 [==============================] - 0s 253us/step - loss: 0.4150 - acc: 0.8193\n",
      "Epoch 26/100\n",
      "891/891 [==============================] - 0s 234us/step - loss: 0.4151 - acc: 0.8249\n",
      "Epoch 27/100\n",
      "891/891 [==============================] - 0s 224us/step - loss: 0.4141 - acc: 0.8227\n",
      "Epoch 28/100\n",
      "891/891 [==============================] - 0s 271us/step - loss: 0.4148 - acc: 0.8227\n",
      "Epoch 29/100\n",
      "891/891 [==============================] - 0s 256us/step - loss: 0.4137 - acc: 0.8215\n",
      "Epoch 30/100\n",
      "891/891 [==============================] - 0s 230us/step - loss: 0.4129 - acc: 0.8193\n",
      "Epoch 31/100\n",
      "891/891 [==============================] - 0s 227us/step - loss: 0.4134 - acc: 0.8227\n",
      "Epoch 32/100\n",
      "891/891 [==============================] - 0s 230us/step - loss: 0.4129 - acc: 0.8182\n",
      "Epoch 33/100\n",
      "891/891 [==============================] - 0s 268us/step - loss: 0.4134 - acc: 0.8182\n",
      "Epoch 34/100\n",
      "891/891 [==============================] - 0s 240us/step - loss: 0.4136 - acc: 0.8260\n",
      "Epoch 35/100\n",
      "891/891 [==============================] - 0s 223us/step - loss: 0.4125 - acc: 0.8193\n",
      "Epoch 36/100\n",
      "891/891 [==============================] - 0s 266us/step - loss: 0.4128 - acc: 0.8215\n",
      "Epoch 37/100\n",
      "891/891 [==============================] - 0s 253us/step - loss: 0.4124 - acc: 0.8215\n",
      "Epoch 38/100\n",
      "891/891 [==============================] - 0s 238us/step - loss: 0.4120 - acc: 0.8249\n",
      "Epoch 39/100\n",
      "891/891 [==============================] - 0s 343us/step - loss: 0.4132 - acc: 0.8249\n",
      "Epoch 40/100\n",
      "891/891 [==============================] - 0s 253us/step - loss: 0.4107 - acc: 0.8204\n",
      "Epoch 41/100\n",
      "891/891 [==============================] - 0s 247us/step - loss: 0.4117 - acc: 0.8238\n",
      "Epoch 42/100\n",
      "891/891 [==============================] - 0s 296us/step - loss: 0.4105 - acc: 0.8227\n",
      "Epoch 43/100\n",
      "891/891 [==============================] - 0s 242us/step - loss: 0.4106 - acc: 0.8204\n",
      "Epoch 44/100\n",
      "891/891 [==============================] - 0s 251us/step - loss: 0.4102 - acc: 0.8294\n",
      "Epoch 45/100\n",
      "891/891 [==============================] - 0s 252us/step - loss: 0.4108 - acc: 0.8283\n",
      "Epoch 46/100\n",
      "891/891 [==============================] - 0s 271us/step - loss: 0.4083 - acc: 0.8227\n",
      "Epoch 47/100\n",
      "891/891 [==============================] - 0s 274us/step - loss: 0.4098 - acc: 0.8193\n",
      "Epoch 48/100\n",
      "891/891 [==============================] - 0s 248us/step - loss: 0.4091 - acc: 0.8283\n",
      "Epoch 49/100\n",
      "891/891 [==============================] - 0s 259us/step - loss: 0.4096 - acc: 0.8305\n",
      "Epoch 50/100\n",
      "891/891 [==============================] - 0s 258us/step - loss: 0.4095 - acc: 0.8249\n",
      "Epoch 51/100\n",
      "891/891 [==============================] - 0s 262us/step - loss: 0.4092 - acc: 0.8260\n",
      "Epoch 52/100\n",
      "891/891 [==============================] - 0s 246us/step - loss: 0.4078 - acc: 0.8227\n",
      "Epoch 53/100\n",
      "891/891 [==============================] - 0s 243us/step - loss: 0.4083 - acc: 0.8283\n",
      "Epoch 54/100\n",
      "891/891 [==============================] - 0s 263us/step - loss: 0.4090 - acc: 0.8328\n",
      "Epoch 55/100\n",
      "891/891 [==============================] - 0s 276us/step - loss: 0.4077 - acc: 0.8260\n",
      "Epoch 56/100\n",
      "891/891 [==============================] - 0s 227us/step - loss: 0.4081 - acc: 0.8249\n",
      "Epoch 57/100\n",
      "891/891 [==============================] - 0s 252us/step - loss: 0.4093 - acc: 0.8328\n",
      "Epoch 58/100\n",
      "891/891 [==============================] - 0s 269us/step - loss: 0.4067 - acc: 0.8227\n",
      "Epoch 59/100\n",
      "891/891 [==============================] - 0s 240us/step - loss: 0.4072 - acc: 0.8305\n",
      "Epoch 60/100\n",
      "891/891 [==============================] - 0s 264us/step - loss: 0.4063 - acc: 0.8272\n",
      "Epoch 61/100\n",
      "891/891 [==============================] - 0s 254us/step - loss: 0.4065 - acc: 0.8294\n",
      "Epoch 62/100\n",
      "891/891 [==============================] - 0s 243us/step - loss: 0.4066 - acc: 0.8361\n",
      "Epoch 63/100\n",
      "891/891 [==============================] - 0s 255us/step - loss: 0.4067 - acc: 0.8260\n",
      "Epoch 64/100\n",
      "891/891 [==============================] - 0s 242us/step - loss: 0.4070 - acc: 0.8260\n",
      "Epoch 65/100\n",
      "891/891 [==============================] - 0s 241us/step - loss: 0.4067 - acc: 0.8294\n",
      "Epoch 66/100\n",
      "891/891 [==============================] - 0s 296us/step - loss: 0.4059 - acc: 0.8283\n",
      "Epoch 67/100\n",
      "891/891 [==============================] - 0s 248us/step - loss: 0.4058 - acc: 0.8350\n",
      "Epoch 68/100\n",
      "891/891 [==============================] - 0s 241us/step - loss: 0.4035 - acc: 0.8373\n",
      "Epoch 69/100\n",
      "891/891 [==============================] - 0s 273us/step - loss: 0.4059 - acc: 0.8305\n",
      "Epoch 70/100\n",
      "891/891 [==============================] - 0s 252us/step - loss: 0.4042 - acc: 0.8316\n",
      "Epoch 71/100\n",
      "891/891 [==============================] - 0s 248us/step - loss: 0.4036 - acc: 0.8328\n",
      "Epoch 72/100\n",
      "891/891 [==============================] - 0s 228us/step - loss: 0.4050 - acc: 0.8339\n",
      "Epoch 73/100\n",
      "891/891 [==============================] - 0s 243us/step - loss: 0.4017 - acc: 0.8350\n",
      "Epoch 74/100\n",
      "891/891 [==============================] - 0s 236us/step - loss: 0.4027 - acc: 0.8339\n",
      "Epoch 75/100\n",
      "891/891 [==============================] - 0s 234us/step - loss: 0.4011 - acc: 0.8316\n",
      "Epoch 76/100\n",
      "891/891 [==============================] - 0s 232us/step - loss: 0.4019 - acc: 0.8339\n",
      "Epoch 77/100\n",
      "891/891 [==============================] - 0s 244us/step - loss: 0.4007 - acc: 0.8384\n",
      "Epoch 78/100\n",
      "891/891 [==============================] - 0s 262us/step - loss: 0.4009 - acc: 0.8384\n",
      "Epoch 79/100\n",
      "891/891 [==============================] - 0s 254us/step - loss: 0.4013 - acc: 0.8350\n",
      "Epoch 80/100\n",
      "891/891 [==============================] - 0s 228us/step - loss: 0.4009 - acc: 0.8384\n",
      "Epoch 81/100\n",
      "891/891 [==============================] - 0s 257us/step - loss: 0.4012 - acc: 0.8339\n",
      "Epoch 82/100\n",
      "891/891 [==============================] - 0s 239us/step - loss: 0.4002 - acc: 0.8395\n",
      "Epoch 83/100\n"
     ]
    },
    {
     "name": "stdout",
     "output_type": "stream",
     "text": [
      "891/891 [==============================] - 0s 243us/step - loss: 0.4019 - acc: 0.8361\n",
      "Epoch 84/100\n",
      "891/891 [==============================] - 0s 243us/step - loss: 0.4001 - acc: 0.8361\n",
      "Epoch 85/100\n",
      "891/891 [==============================] - 0s 271us/step - loss: 0.3987 - acc: 0.8350\n",
      "Epoch 86/100\n",
      "891/891 [==============================] - 0s 266us/step - loss: 0.3995 - acc: 0.8373\n",
      "Epoch 87/100\n",
      "891/891 [==============================] - 0s 257us/step - loss: 0.3987 - acc: 0.8395\n",
      "Epoch 88/100\n",
      "891/891 [==============================] - 0s 264us/step - loss: 0.3984 - acc: 0.8305\n",
      "Epoch 89/100\n",
      "891/891 [==============================] - 0s 239us/step - loss: 0.4000 - acc: 0.8395\n",
      "Epoch 90/100\n",
      "891/891 [==============================] - 0s 256us/step - loss: 0.3979 - acc: 0.8406\n",
      "Epoch 91/100\n",
      "891/891 [==============================] - 0s 282us/step - loss: 0.4004 - acc: 0.8361\n",
      "Epoch 92/100\n",
      "891/891 [==============================] - 0s 288us/step - loss: 0.3989 - acc: 0.8339\n",
      "Epoch 93/100\n",
      "891/891 [==============================] - 0s 237us/step - loss: 0.3989 - acc: 0.8373\n",
      "Epoch 94/100\n",
      "891/891 [==============================] - 0s 273us/step - loss: 0.3971 - acc: 0.8350\n",
      "Epoch 95/100\n",
      "891/891 [==============================] - 0s 312us/step - loss: 0.3987 - acc: 0.8339\n",
      "Epoch 96/100\n",
      "891/891 [==============================] - 0s 251us/step - loss: 0.3977 - acc: 0.8350\n",
      "Epoch 97/100\n",
      "891/891 [==============================] - 0s 262us/step - loss: 0.3995 - acc: 0.8249\n",
      "Epoch 98/100\n",
      "891/891 [==============================] - 0s 303us/step - loss: 0.3975 - acc: 0.8384\n",
      "Epoch 99/100\n",
      "891/891 [==============================] - 0s 235us/step - loss: 0.3980 - acc: 0.8305\n",
      "Epoch 100/100\n",
      "891/891 [==============================] - 0s 229us/step - loss: 0.3979 - acc: 0.8373\n"
     ]
    },
    {
     "data": {
      "text/plain": [
       "<keras.callbacks.History at 0x114b632b0>"
      ]
     },
     "execution_count": 103,
     "metadata": {},
     "output_type": "execute_result"
    }
   ],
   "source": [
    "classifier.fit(X_train, y_train, batch_size=10, epochs=100)"
   ]
  },
  {
   "cell_type": "markdown",
   "metadata": {},
   "source": [
    "### Validate the accuracy on testing dataset"
   ]
  },
  {
   "cell_type": "code",
   "execution_count": null,
   "metadata": {
    "collapsed": true
   },
   "outputs": [],
   "source": []
  }
 ],
 "metadata": {
  "kernelspec": {
   "display_name": "kaggle-titanic",
   "language": "python",
   "name": "kaggle-titanic"
  },
  "language_info": {
   "codemirror_mode": {
    "name": "ipython",
    "version": 3
   },
   "file_extension": ".py",
   "mimetype": "text/x-python",
   "name": "python",
   "nbconvert_exporter": "python",
   "pygments_lexer": "ipython3",
   "version": "3.6.2"
  }
 },
 "nbformat": 4,
 "nbformat_minor": 2
}
